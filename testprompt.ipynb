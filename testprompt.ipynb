{
 "cells": [
  {
   "cell_type": "code",
   "execution_count": 15,
   "metadata": {},
   "outputs": [
    {
     "name": "stdout",
     "output_type": "stream",
     "text": [
      "Index(['Date', 'Description', 'Amount', 'Transaction Type', 'Category',\n",
      "       'Account Name'],\n",
      "      dtype='object')\n"
     ]
    }
   ],
   "source": [
    "import pandas as pd\n",
    "import random\n",
    "pf_score_path = 'personal_finance/personal_transactions.csv'\n",
    "df = pd.read_csv(pf_score_path)\n",
    "print(df.columns)\n"
   ]
  },
  {
   "cell_type": "code",
   "execution_count": 23,
   "metadata": {},
   "outputs": [
    {
     "name": "stdout",
     "output_type": "stream",
     "text": [
      "1. <description>Brewing Company</description> <amount>14.0</amount>\n",
      "<classification>Alcohol & Bars</classification>\n",
      "2. <description>Netflix</description> <amount>11.76</amount>\n",
      "<classification>Movies & DVDs</classification>\n",
      "3. <description>Shell</description> <amount>34.87</amount>\n",
      "<classification>Gas & Fuel</classification>\n",
      "4. <description>Liquor Store</description> <amount>27.77</amount>\n",
      "<classification>Alcohol & Bars</classification>\n",
      "5. <description>Grocery Store</description> <amount>43.54</amount>\n",
      "<classification>Groceries</classification>\n",
      "6. <description>Spotify</description> <amount>10.69</amount>\n",
      "<classification>Music</classification>\n",
      "7. <description>Blue Sky Market</description> <amount>6.48</amount>\n",
      "<classification>Groceries</classification>\n",
      "8. <description>Gas Station</description> <amount>32.21</amount>\n",
      "<classification>Gas & Fuel</classification>\n",
      "9. <description>Mike's Construction Co.</description> <amount>8000.0</amount>\n",
      "<classification>Home Improvement</classification>\n",
      "10. <description>Starbucks</description> <amount>3.0</amount>\n",
      "<classification>Coffee Shops</classification>\n",
      "11. <description>Bojangles</description> <amount>10.66</amount>\n",
      "<classification>Fast Food</classification>\n",
      "12. <description>Gas Company</description> <amount>45.0</amount>\n",
      "<classification>Utilities</classification>\n",
      "13. <description>American Tavern</description> <amount>63.0</amount>\n",
      "<classification>Food & Dining</classification>\n",
      "14. <description>Biweekly Paycheck</description> <amount>2000.0</amount>\n",
      "<classification>Paycheck</classification>\n",
      "15. <description>Seafood Restaurant</description> <amount>14.75</amount>\n",
      "<classification>Food & Dining</classification>\n",
      "16. <description>Amazon Video</description> <amount>6.41</amount>\n",
      "<classification>Movies & DVDs</classification>\n",
      "17. <description>Best Buy</description> <amount>320.99</amount>\n",
      "<classification>Electronics & Software</classification>\n",
      "18. <description>Movie Theater</description> <amount>9.62</amount>\n",
      "<classification>Entertainment</classification>\n",
      "19. <description>State Farm</description> <amount>75.0</amount>\n",
      "<classification>Auto Insurance</classification>\n",
      "20. <description>Netflix</description> <amount>11.76</amount>\n",
      "<classification>Television</classification>\n",
      "21. <description>Phone Company</description> <amount>89.46</amount>\n",
      "<classification>Mobile Phone</classification>\n",
      "22. <description>Pizza Place</description> <amount>32.91</amount>\n",
      "<classification>Fast Food</classification>\n",
      "23. <description>City Water Charges</description> <amount>35.0</amount>\n",
      "<classification>Utilities</classification>\n",
      "24. <description>Mortgage Payment</description> <amount>1247.44</amount>\n",
      "<classification>Mortgage & Rent</classification>\n",
      "25. <description>Internet Service Provider</description> <amount>69.99</amount>\n",
      "<classification>Internet</classification>\n",
      "26. <description>Credit Card Payment</description> <amount>2298.09</amount>\n",
      "<classification>Credit Card Payment</classification>\n",
      "27. <description>Amazon</description> <amount>11.11</amount>\n",
      "<classification>Shopping</classification>\n",
      "28. <description>Thai Restaurant</description> <amount>24.22</amount>\n",
      "<classification>Restaurants</classification>\n",
      "29. <description>Hardware Store</description> <amount>18.45</amount>\n",
      "<classification>Home Improvement</classification>\n",
      "30. <description>Barbershop</description> <amount>30.0</amount>\n",
      "<classification>Haircut</classification>\n",
      "31. <description>Target</description> <amount>3.2</amount>\n",
      "<classification>Shopping</classification>\n",
      "32. <description>American Tavern</description> <amount>25.85</amount>\n",
      "<classification>Restaurants</classification>\n"
     ]
    }
   ],
   "source": [
    "grouped_df = df.groupby('Category')\n",
    "#print(\"{\", end=\"\")\n",
    "#for name, _ in grouped_df:\n",
    "#    print(f\"'{name}':'',\")\n",
    "#print(\"}\")\n",
    "items = []\n",
    "# Print up to 5 rows of each group\n",
    "for name, group in grouped_df:\n",
    "    #print(f\"Group: {name}\")\n",
    "    unique_rows = group.drop_duplicates('Description').head(2)\n",
    "    for index, row in unique_rows.iterrows():\n",
    "        items.append(f\"<description>{row['Description']}</description> <amount>{row['Amount']}</amount>\\n<classification>{name}</classification>\")\n",
    "    #print(f\"unique_rows.head(5)\")\n",
    "    #print(\"\\n\")\n",
    "\n",
    "random.shuffle(items)\n",
    "\n",
    "for i in range(len(items)):\n",
    "    print(f\"{i+1}. {items[i]}\")"
   ]
  },
  {
   "cell_type": "code",
   "execution_count": null,
   "metadata": {},
   "outputs": [],
   "source": [
    "catagories = {'Alcohol & Bars':'Wants',\n",
    "'Auto Insurance':'Needs',\n",
    "'Coffee Shops':'Wants',\n",
    "'Credit Card Payment':'Other',\n",
    "'Electronics & Software':'Misc',\n",
    "'Entertainment':'Wants',\n",
    "'Fast Food':'Wants',\n",
    "'Food & Dining':'Wants',\n",
    "'Gas & Fuel':'Needs',\n",
    "'Groceries':'Needs',\n",
    "'Haircut':'Wants',\n",
    "'Home Improvement':'Wants',\n",
    "'Internet':'Needs',\n",
    "'Mobile Phone':'Needs',\n",
    "'Mortgage & Rent':'Needs',\n",
    "'Movies & DVDs':'Wants',\n",
    "'Music':'Wants',\n",
    "'Paycheck':'Other',\n",
    "'Restaurants':'Wants',\n",
    "'Shopping':'Wants',\n",
    "'Television':'Wants',\n",
    "'Utilities':'Needs',\n",
    "}"
   ]
  }
 ],
 "metadata": {
  "kernelspec": {
   "display_name": "venv",
   "language": "python",
   "name": "python3"
  },
  "language_info": {
   "codemirror_mode": {
    "name": "ipython",
    "version": 3
   },
   "file_extension": ".py",
   "mimetype": "text/x-python",
   "name": "python",
   "nbconvert_exporter": "python",
   "pygments_lexer": "ipython3",
   "version": "3.11.6"
  }
 },
 "nbformat": 4,
 "nbformat_minor": 2
}
